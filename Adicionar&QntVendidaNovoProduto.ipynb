{
 "cells": [
  {
   "cell_type": "code",
   "execution_count": 48,
   "metadata": {},
   "outputs": [
    {
     "name": "stdout",
     "output_type": "stream",
     "text": [
      "lucas, fulano, fulaninho, jacqueline\n",
      "mouse, iphone x, macbook, ipad\n",
      "\u001b[93mAs quantidades vendidas pelos vendedores respectivamente:\u001b[0m\n",
      "[100, 550, 60, 80]\n",
      "[45, 75, 84, 34]\n",
      "[100, 250, 74, 20]\n",
      "[50, 200, 80, 50]\n",
      "O vendedor lucas realizou 50 vendas do novo produto da loja, o ipad.\n",
      "O vendedor fulano realizou 200 vendas do novo produto da loja, o ipad.\n",
      "O vendedor fulaninho realizou 80 vendas do novo produto da loja, o ipad.\n",
      "O vendedor jacqueline realizou 50 vendas do novo produto da loja, o ipad.\n",
      "\u001b[92mO vendedor fulano foi o que realizou a maior quantidade de venda do novo produto, ipad, totalizando em 200 vendas.\u001b[0m\n"
     ]
    }
   ],
   "source": [
    "\n",
    "vendedores = ['lucas', 'fulano', 'fulaninho']\n",
    "produtos = ['mouse', 'iphone x', 'macbook']\n",
    "qnt_vendas = [\n",
    "    [100, 550, 60],\n",
    "    [45, 75, 84],\n",
    "    [100, 250, 74],\n",
    "]\n",
    "\n",
    "#adicionar mais uma vendedora e suas quantidades vendidas\n",
    "vendedores += ['jacqueline']\n",
    "vendedores_formatados = ', '.join(vendedores)\n",
    "print(vendedores_formatados)\n",
    "qnt_vendas += [[50, 200, 80]]\n",
    "\n",
    "#adicionar mais um produto\n",
    "produtos += ['ipad']\n",
    "produtos_formatados = ', '.join(produtos)\n",
    "print(produtos_formatados)\n",
    "# ou: print(*produtos)\n",
    "\n",
    "\n",
    "#adicionar a quantidade vendida pelo vendedor fulano do novo produto\n",
    "qnt_vendas[1] += [34]\n",
    "\n",
    "#adicionar a quantidade vendida por cada vendedor\n",
    "qnt_vendas[0] += [80]\n",
    "qnt_vendas[2] += [20]\n",
    "qnt_vendas[3] += [50]\n",
    "\n",
    "print('\\033[93mAs quantidades vendidas pelos vendedores respectivamente:\\033[0m')\n",
    "for vendas in qnt_vendas:\n",
    "    print(vendas)\n",
    "\n",
    "#dizer quantas vendas cada vendedor fez sobre o adicionado recentemente\n",
    "print('O vendedor {} realizou {} vendas do novo produto da loja, o {}.'.format(vendedores[0], qnt_vendas[3][0], produtos[3]))\n",
    "print('O vendedor {} realizou {} vendas do novo produto da loja, o {}.'.format(vendedores[1], qnt_vendas[3][1], produtos[3]))\n",
    "print('O vendedor {} realizou {} vendas do novo produto da loja, o {}.'.format(vendedores[2], qnt_vendas[3][2], produtos[3]))\n",
    "print('O vendedor {} realizou {} vendas do novo produto da loja, o {}.'.format(vendedores[3], qnt_vendas[3][3], produtos[3]))\n",
    "\n",
    "#definir qual vendedor realizou a maior quantidade de vendas\n",
    "i = qnt_vendas[3].index(max(qnt_vendas[3]))\n",
    "maior_vendedor_novo_prod = vendedores[i]\n",
    "\n",
    "print('\\033[92mO vendedor {} foi o que realizou a maior quantidade de venda do novo produto, {}, totalizando em {} vendas.\\033[0m'.format(maior_vendedor_novo_prod, produtos[3], max(qnt_vendas[3])))\n"
   ]
  }
 ],
 "metadata": {
  "interpreter": {
   "hash": "534f99fff0a704bc61c015fdf66737b64616cbd8861b66fe990101a378213469"
  },
  "kernelspec": {
   "display_name": "Python 3.8.6 64-bit",
   "language": "python",
   "name": "python3"
  },
  "language_info": {
   "codemirror_mode": {
    "name": "ipython",
    "version": 3
   },
   "file_extension": ".py",
   "mimetype": "text/x-python",
   "name": "python",
   "nbconvert_exporter": "python",
   "pygments_lexer": "ipython3",
   "version": "3.9.7"
  },
  "orig_nbformat": 4
 },
 "nbformat": 4,
 "nbformat_minor": 2
}
